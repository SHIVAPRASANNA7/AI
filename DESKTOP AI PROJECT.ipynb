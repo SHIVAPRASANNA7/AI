{
 "cells": [
  {
   "cell_type": "code",
   "execution_count": 1,
   "id": "71193772",
   "metadata": {},
   "outputs": [],
   "source": [
    "import pyttsx3\n",
    "import pyaudio\n",
    "import speech_recognition as sr\n",
    "import datetime\n",
    "import os\n",
    "from requests import get\n",
    "import wikipedia\n",
    "import webbrowser\n",
    "import pywhatkit as kit\n",
    "import sys"
   ]
  },
  {
   "cell_type": "code",
   "execution_count": 2,
   "id": "5dce2963",
   "metadata": {},
   "outputs": [
    {
     "name": "stdout",
     "output_type": "stream",
     "text": [
      "HKEY_LOCAL_MACHINE\\SOFTWARE\\Microsoft\\Speech\\Voices\\Tokens\\TTS_MS_EN-US_ZIRA_11.0\n"
     ]
    }
   ],
   "source": [
    "engine = pyttsx3.init('sapi5')\n",
    "voices = engine.getProperty('voices')\n",
    "print(voices[1].id)\n",
    "engine.setProperty('voices',voices[0].id)"
   ]
  },
  {
   "cell_type": "code",
   "execution_count": 3,
   "id": "a3829e6c",
   "metadata": {},
   "outputs": [],
   "source": [
    "def speak(audio):\n",
    "    engine.say(audio)\n",
    "    print(audio)\n",
    "    engine.runAndWait()"
   ]
  },
  {
   "cell_type": "code",
   "execution_count": 4,
   "id": "ed733a2e",
   "metadata": {},
   "outputs": [],
   "source": [
    "import speech_recognition as sr\n",
    "\n",
    "def takecommand():\n",
    "    r = sr.Recognizer()\n",
    "    with sr.Microphone() as source:\n",
    "        print(\"Listening.....\")\n",
    "        r.pause_threshold = 1\n",
    "        audio = r.listen(source, timeout=5, phrase_time_limit=5)\n",
    "        \n",
    "    try:\n",
    "        print(\"Recognizing....\")\n",
    "        query = r.recognize_google(audio, language='en-in')\n",
    "        print(f\"User said: {query}\")\n",
    "        return query\n",
    "    \n",
    "    except Exception as e:\n",
    "        print(\"Say that again please.....\")\n",
    "        return \"none\"\n"
   ]
  },
  {
   "cell_type": "code",
   "execution_count": 374,
   "id": "95b74b9a",
   "metadata": {},
   "outputs": [
    {
     "name": "stdout",
     "output_type": "stream",
     "text": [
      "GOOD AFTERNOON\n",
      "Hi Siva. tell me how can i help you\n"
     ]
    }
   ],
   "source": [
    "def wish():\n",
    "    hour = int(datetime.datetime.now().hour)\n",
    "    if hour>=0 and hour<=12:\n",
    "        speak(\"GOOD MORNING\")\n",
    "        speak(\"Hi Siva. tell me how can i help you\")\n",
    "    elif hour>12 and hour<=18:\n",
    "        speak(\"GOOD AFTERNOON\")\n",
    "        speak(\"Hi Siva. tell me how can i help you\")\n",
    "    else:\n",
    "        speak(\"GOOD EVENING\")\n",
    "        speak(\"Hi Siva. tell me how can i help you\")\n",
    "if __name__ == \"__main__\":\n",
    "    wish()\n",
    "   "
   ]
  },
  {
   "cell_type": "code",
   "execution_count": null,
   "id": "3e513094",
   "metadata": {},
   "outputs": [
    {
     "name": "stdout",
     "output_type": "stream",
     "text": [
      "Listening.....\n",
      "Recognizing....\n",
      "User said: open Google\n",
      "siva,what should i search on google\n",
      "Listening.....\n",
      "Recognizing....\n",
      "User said: about Puducherry\n",
      "siva,do you have any other work\n",
      "Listening.....\n",
      "Recognizing....\n",
      "Say that again please.....\n",
      "Listening.....\n",
      "Recognizing....\n",
      "User said: open CMD Narayan Narayan\n",
      "Listening.....\n",
      "Recognizing....\n",
      "Say that again please.....\n",
      "Listening.....\n",
      "Recognizing....\n",
      "User said: good morning\n",
      "Listening.....\n",
      "Recognizing....\n",
      "User said: good\n",
      "Listening.....\n",
      "Recognizing....\n",
      "User said: good evening I saw tell me how can I help\n",
      "Listening.....\n"
     ]
    }
   ],
   "source": [
    " while True:\n",
    "        query = takecommand().lower()\n",
    "        if \"open command prompt\" in query:\n",
    "           os.system(\"start cmd\")\n",
    "           speak(\"siva,do you have any other work\")\n",
    "        \n",
    "        elif \"ip address\" in query:\n",
    "            ip = get('https://api.ipify.org').text\n",
    "            speak(f\"your ip address is{ip}\")\n",
    "            speak(\"siva,do you have any other work\")\n",
    "            \n",
    "        elif \"wikipedia\" in query:\n",
    "            speak(\"searching wikipedia.....\")\n",
    "            query = query.replace(\"wikipedia\", \"\")\n",
    "            results = wikipedia.summary(query, sentences=2)\n",
    "            speak(\"according to wikipedia\")\n",
    "            speak(results)\n",
    "            speak(\"siva,do you have any other work\")\n",
    "        \n",
    "    \n",
    "        elif \"open youtube\" in query:\n",
    "            webbrowser.open(\"www.youtube.com\")\n",
    "            speak(\"siva,do you have any other work\")\n",
    "        \n",
    "        elif \"open google\" in query:\n",
    "            speak(\"siva,what should i search on google\")\n",
    "            cm=takecommand().lower()\n",
    "            webbrowser.open(f\"{cm}\")\n",
    "            speak(\"siva,do you have any other work\")\n",
    "        \n",
    "        elif \"play song on youtube\" in query:\n",
    "            kit.playonyt(\"katchi sera\")\n",
    "            speak(\"siva,do you have any other work\")\n",
    "        \n",
    "        elif\"no thanks\" in query:\n",
    "            speak(\"thanks for using me siva,have a good day.\")\n",
    "            sys.exit()\n",
    "           "
   ]
  },
  {
   "cell_type": "code",
   "execution_count": null,
   "id": "0d9d5048",
   "metadata": {},
   "outputs": [],
   "source": []
  }
 ],
 "metadata": {
  "kernelspec": {
   "display_name": "Python 3 (ipykernel)",
   "language": "python",
   "name": "python3"
  },
  "language_info": {
   "codemirror_mode": {
    "name": "ipython",
    "version": 3
   },
   "file_extension": ".py",
   "mimetype": "text/x-python",
   "name": "python",
   "nbconvert_exporter": "python",
   "pygments_lexer": "ipython3",
   "version": "3.9.12"
  }
 },
 "nbformat": 4,
 "nbformat_minor": 5
}
